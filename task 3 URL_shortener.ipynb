{
  "cells": [
    {
      "cell_type": "code",
      "execution_count": 3,
      "id": "4cfe3637",
      "metadata": {
        "colab": {
          "base_uri": "https://localhost:8080/"
        },
        "id": "4cfe3637",
        "outputId": "88f29ee6-f80f-427c-a5ab-197a496f4ef5"
      },
      "outputs": [
        {
          "output_type": "stream",
          "name": "stdout",
          "text": [
            "Requirement already satisfied: pyshorteners in /usr/local/lib/python3.10/dist-packages (1.0.1)\n",
            "Requirement already satisfied: requests in /usr/local/lib/python3.10/dist-packages (from pyshorteners) (2.31.0)\n",
            "Requirement already satisfied: charset-normalizer<4,>=2 in /usr/local/lib/python3.10/dist-packages (from requests->pyshorteners) (3.3.0)\n",
            "Requirement already satisfied: idna<4,>=2.5 in /usr/local/lib/python3.10/dist-packages (from requests->pyshorteners) (3.4)\n",
            "Requirement already satisfied: urllib3<3,>=1.21.1 in /usr/local/lib/python3.10/dist-packages (from requests->pyshorteners) (2.0.6)\n",
            "Requirement already satisfied: certifi>=2017.4.17 in /usr/local/lib/python3.10/dist-packages (from requests->pyshorteners) (2023.7.22)\n",
            "Enter the URL to shorten: https://colab.research.google.com/drive/1KjDdyrD6r_upJ66pjciKP4GuK2MD5W9d\n",
            "Shortened URL: https://tinyurl.com/yla2ad3x\n"
          ]
        }
      ],
      "source": [
        "!pip install pyshorteners\n",
        "import pyshorteners\n",
        "\n",
        "def shorten_url(long_url):\n",
        "    s = pyshorteners.Shortener()\n",
        "    short_url = s.tinyurl.short(long_url)\n",
        "    return short_url\n",
        "\n",
        "if __name__ == \"__main__\":\n",
        "    long_url = input(\"Enter the URL to shorten: \")\n",
        "    short_url = shorten_url(long_url)\n",
        "    print(f\"Shortened URL: {short_url}\")\n"
      ]
    },
    {
      "cell_type": "code",
      "execution_count": null,
      "id": "29f17697",
      "metadata": {
        "id": "29f17697"
      },
      "outputs": [],
      "source": []
    }
  ],
  "metadata": {
    "kernelspec": {
      "display_name": "Python 3",
      "language": "python",
      "name": "python3"
    },
    "language_info": {
      "codemirror_mode": {
        "name": "ipython",
        "version": 3
      },
      "file_extension": ".py",
      "mimetype": "text/x-python",
      "name": "python",
      "nbconvert_exporter": "python",
      "pygments_lexer": "ipython3",
      "version": "3.8.8"
    },
    "colab": {
      "provenance": []
    }
  },
  "nbformat": 4,
  "nbformat_minor": 5
}
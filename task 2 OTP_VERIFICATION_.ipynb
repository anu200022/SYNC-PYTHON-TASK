{
  "nbformat": 4,
  "nbformat_minor": 0,
  "metadata": {
    "colab": {
      "provenance": []
    },
    "kernelspec": {
      "name": "python3",
      "display_name": "Python 3"
    },
    "language_info": {
      "name": "python"
    }
  },
  "cells": [
    {
      "cell_type": "code",
      "source": [
        "import random\n",
        "\n",
        "# Step 1: Create a 6-digit random number\n",
        "otp = random.randint(100000, 999999)\n",
        "\n",
        "# Step 2: Store the number in a variable\n",
        "stored_otp = otp\n",
        "\n",
        "# Step 3: Write a program to send emails (requires additional configuration)\n",
        "def send_email(receiver_email, otp):\n",
        "    # Add your email sending logic here\n",
        "    print(f\"Sending OTP {otp} to {receiver_email}\")\n",
        "\n",
        "# Step 4: Send email with OTP as message\n",
        "user_email = input(\"Enter your email address: \")\n",
        "send_email(user_email, otp)\n",
        "\n",
        "# Step 5: Request user input for email and OTP verification\n",
        "user_input_otp = int(input(\"Enter the OTP you received: \"))\n",
        "\n",
        "# Verify the OTP\n",
        "if user_input_otp == stored_otp:\n",
        "    print(\"OTP verification successful. User verified.\")\n",
        "else:\n",
        "    print(\"OTP verification failed. Please try again.\")\n"
      ],
      "metadata": {
        "colab": {
          "base_uri": "https://localhost:8080/"
        },
        "id": "1EO_-nqMor7U",
        "outputId": "bc07e0eb-7e65-4dcb-aa1a-497e223b77f4"
      },
      "execution_count": 2,
      "outputs": [
        {
          "output_type": "stream",
          "name": "stdout",
          "text": [
            "Enter your email address: 2000anuch@gmail.com\n",
            "Sending OTP 523751 to 2000anuch@gmail.com\n",
            "Enter the OTP you received: 523751\n",
            "OTP verification successful. User verified.\n"
          ]
        }
      ]
    }
  ]
}